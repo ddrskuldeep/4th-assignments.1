{
 "cells": [
  {
   "cell_type": "markdown",
   "id": "412de0a2-0fce-4cae-99bb-d463bff3933a",
   "metadata": {},
   "source": [
    "Q1. Explain Class and Object with respect to Object-Oriented Programming. Give a suitable example."
   ]
  },
  {
   "cell_type": "markdown",
   "id": "ee40200d-c3b3-41ca-82d8-e5e5b8deaa26",
   "metadata": {},
   "source": [
    "A class is a **construct** that encapsulates a group of **variables** and **methods** that are related to a common concept or entity¹. An object is an **instance** or **member** of a class that has its own **identity**, **state**, and behavior. For example, the animal type Dog is a class while a particular dog named Tommy is an object of the Dog class"
   ]
  },
  {
   "cell_type": "markdown",
   "id": "393728d4-ccb2-4b5c-a17e-bb4f7c9ef76e",
   "metadata": {},
   "source": [
    "Q2. Name the four pillars of OOPs."
   ]
  },
  {
   "cell_type": "markdown",
   "id": "4ffb39b7-cffd-431c-8644-2dd1ec053723",
   "metadata": {},
   "source": [
    "The are four pillars of Object-Oriented Programming oops.\n",
    "1.Abstraction\n",
    "2.Encapsulation\n",
    "3.Inheritance\n",
    "4.Polymorphism"
   ]
  },
  {
   "cell_type": "markdown",
   "id": "759ccde9-52c1-4ef6-a9f0-7c6a2481c364",
   "metadata": {},
   "source": [
    "Q3. Explain why the __init__() function is used. Give a suitable example."
   ]
  },
  {
   "cell_type": "markdown",
   "id": "ec5465a4-a793-4c0a-9ad4-3f924662dafb",
   "metadata": {},
   "source": [
    "The __init__() function is a special method in Python that is called automatically when an object is created from a class. It is used to initialize the object’s attributes with the values passed as arguments.\n",
    "example are below"
   ]
  },
  {
   "cell_type": "code",
   "execution_count": 2,
   "id": "c20b0fcf-f266-4446-a2cd-971f8da41cf0",
   "metadata": {},
   "outputs": [],
   "source": [
    "class Person:\n",
    " def __init__(self, name, age):\n",
    "    self.name = name\n",
    "    self.age = age\n",
    "\n",
    "p1 = Person(\"Alice\", 25) # creates an object p1 with name \"Alice\" and age 25"
   ]
  },
  {
   "cell_type": "markdown",
   "id": "866f29e9-fa4a-4f7a-9472-1b4c565b4546",
   "metadata": {},
   "source": [
    "Q4. Why self is used in OOPs?"
   ]
  },
  {
   "cell_type": "markdown",
   "id": "58eef614-30ab-41ac-9798-9e9f59157380",
   "metadata": {},
   "source": [
    "self is a parameter that refers to the current instance of the class. It is used to access the attributes and methods of the class from within the class. It is a convention in Python, but not a keyword."
   ]
  },
  {
   "cell_type": "markdown",
   "id": "8c67ffd8-4d74-4e0d-8863-1e59b790564c",
   "metadata": {},
   "source": [
    "Q5. What is inheritance? Give an example for each type of inheritance."
   ]
  },
  {
   "cell_type": "markdown",
   "id": "c790cf49-f032-4946-aeec-9f378ad9093a",
   "metadata": {},
   "source": [
    "Inheritance is a concept in object-oriented programming that allows you to create new classes from existing ones, reusing the code and behavior of the parent class. There are different types of inheritance\n",
    "1 single inheritance\n",
    "2 multiple inheritance\n",
    "3 multilevel inheritan\n",
    "4 Hierarchical Inheritance\n",
    "5 Hybrid Inheritance"
   ]
  },
  {
   "cell_type": "code",
   "execution_count": 15,
   "id": "72c9d0ad-e29e-43d7-97fd-308fb584fa05",
   "metadata": {},
   "outputs": [],
   "source": [
    "class Parent:\n",
    "    def func1(self):\n",
    "        print(\"This function is in parent class.\")\n",
    "\n",
    "\n",
    "class Child(Parent):\n",
    "    def func2(self):\n",
    "        print(\"This function is in child class.\")\n"
   ]
  },
  {
   "cell_type": "code",
   "execution_count": 16,
   "id": "85efd131-68fd-412f-9846-a7d695dd968f",
   "metadata": {},
   "outputs": [],
   "source": [
    "class Mother:\n",
    "    mothername = \"\"\n",
    " \n",
    "    def mother(self):\n",
    "        print(self.mothername)\n",
    " \n",
    "class Father:\n",
    "    fathername = \"\"\n",
    " \n",
    "    def father(self):\n",
    "        print(self.fathername)\n",
    " \n",
    "\n",
    "class Son(Mother, Father):\n",
    "    def parents(self):\n",
    "        print(\"Father :\", self.fathername)\n",
    "        print(\"Mother :\", self.mothername)\n",
    " "
   ]
  },
  {
   "cell_type": "code",
   "execution_count": null,
   "id": "acb2f352-a7db-49cf-8582-31096513efb0",
   "metadata": {},
   "outputs": [],
   "source": [
    "\n",
    "# Base class\n",
    "class Parent:\n",
    "    def func1(self):\n",
    "        print(\"This function is in parent class.\")\n",
    " \n",
    "# Derived class1\n",
    " \n",
    " \n",
    "class Child1(Parent):\n",
    "    def func2(self):\n",
    "        print(\"This function is in child 1.\")\n",
    " \n",
    "# Derivied class2\n",
    " \n",
    " \n",
    "class Child2(Parent):\n",
    "    def func3(self):\n",
    "        print(\"This function is in child 2.\")"
   ]
  }
 ],
 "metadata": {
  "kernelspec": {
   "display_name": "Python 3 (ipykernel)",
   "language": "python",
   "name": "python3"
  },
  "language_info": {
   "codemirror_mode": {
    "name": "ipython",
    "version": 3
   },
   "file_extension": ".py",
   "mimetype": "text/x-python",
   "name": "python",
   "nbconvert_exporter": "python",
   "pygments_lexer": "ipython3",
   "version": "3.10.8"
  }
 },
 "nbformat": 4,
 "nbformat_minor": 5
}
